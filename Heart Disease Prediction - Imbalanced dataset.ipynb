{
 "cells": [
  {
   "cell_type": "code",
   "execution_count": 1,
   "metadata": {},
   "outputs": [],
   "source": [
    "import numpy as np\n",
    "import pandas as pd\n",
    "\n",
    "import warnings\n",
    "warnings.filterwarnings('ignore')"
   ]
  },
  {
   "cell_type": "code",
   "execution_count": 2,
   "metadata": {},
   "outputs": [],
   "source": [
    "# loading dataset:\n",
    "data_file = r'C:\\Users\\AnitaM\\Downloads\\framingham.csv'\n",
    "hd = pd.read_csv(data_file)"
   ]
  },
  {
   "cell_type": "code",
   "execution_count": 3,
   "metadata": {},
   "outputs": [
    {
     "data": {
      "text/plain": [
       "(4238, 16)"
      ]
     },
     "execution_count": 3,
     "metadata": {},
     "output_type": "execute_result"
    }
   ],
   "source": [
    "hd.shape"
   ]
  },
  {
   "cell_type": "code",
   "execution_count": 4,
   "metadata": {},
   "outputs": [
    {
     "data": {
      "text/html": [
       "<div>\n",
       "<style scoped>\n",
       "    .dataframe tbody tr th:only-of-type {\n",
       "        vertical-align: middle;\n",
       "    }\n",
       "\n",
       "    .dataframe tbody tr th {\n",
       "        vertical-align: top;\n",
       "    }\n",
       "\n",
       "    .dataframe thead th {\n",
       "        text-align: right;\n",
       "    }\n",
       "</style>\n",
       "<table border=\"1\" class=\"dataframe\">\n",
       "  <thead>\n",
       "    <tr style=\"text-align: right;\">\n",
       "      <th></th>\n",
       "      <th>male</th>\n",
       "      <th>age</th>\n",
       "      <th>education</th>\n",
       "      <th>currentSmoker</th>\n",
       "      <th>cigsPerDay</th>\n",
       "      <th>BPMeds</th>\n",
       "      <th>prevalentStroke</th>\n",
       "      <th>prevalentHyp</th>\n",
       "      <th>diabetes</th>\n",
       "      <th>totChol</th>\n",
       "      <th>sysBP</th>\n",
       "      <th>diaBP</th>\n",
       "      <th>BMI</th>\n",
       "      <th>heartRate</th>\n",
       "      <th>glucose</th>\n",
       "      <th>TenYearCHD</th>\n",
       "    </tr>\n",
       "  </thead>\n",
       "  <tbody>\n",
       "    <tr>\n",
       "      <th>0</th>\n",
       "      <td>1</td>\n",
       "      <td>39</td>\n",
       "      <td>4.0</td>\n",
       "      <td>0</td>\n",
       "      <td>0.0</td>\n",
       "      <td>0.0</td>\n",
       "      <td>0</td>\n",
       "      <td>0</td>\n",
       "      <td>0</td>\n",
       "      <td>195.0</td>\n",
       "      <td>106.0</td>\n",
       "      <td>70.0</td>\n",
       "      <td>26.97</td>\n",
       "      <td>80.0</td>\n",
       "      <td>77.0</td>\n",
       "      <td>0</td>\n",
       "    </tr>\n",
       "    <tr>\n",
       "      <th>1</th>\n",
       "      <td>0</td>\n",
       "      <td>46</td>\n",
       "      <td>2.0</td>\n",
       "      <td>0</td>\n",
       "      <td>0.0</td>\n",
       "      <td>0.0</td>\n",
       "      <td>0</td>\n",
       "      <td>0</td>\n",
       "      <td>0</td>\n",
       "      <td>250.0</td>\n",
       "      <td>121.0</td>\n",
       "      <td>81.0</td>\n",
       "      <td>28.73</td>\n",
       "      <td>95.0</td>\n",
       "      <td>76.0</td>\n",
       "      <td>0</td>\n",
       "    </tr>\n",
       "    <tr>\n",
       "      <th>2</th>\n",
       "      <td>1</td>\n",
       "      <td>48</td>\n",
       "      <td>1.0</td>\n",
       "      <td>1</td>\n",
       "      <td>20.0</td>\n",
       "      <td>0.0</td>\n",
       "      <td>0</td>\n",
       "      <td>0</td>\n",
       "      <td>0</td>\n",
       "      <td>245.0</td>\n",
       "      <td>127.5</td>\n",
       "      <td>80.0</td>\n",
       "      <td>25.34</td>\n",
       "      <td>75.0</td>\n",
       "      <td>70.0</td>\n",
       "      <td>0</td>\n",
       "    </tr>\n",
       "    <tr>\n",
       "      <th>3</th>\n",
       "      <td>0</td>\n",
       "      <td>61</td>\n",
       "      <td>3.0</td>\n",
       "      <td>1</td>\n",
       "      <td>30.0</td>\n",
       "      <td>0.0</td>\n",
       "      <td>0</td>\n",
       "      <td>1</td>\n",
       "      <td>0</td>\n",
       "      <td>225.0</td>\n",
       "      <td>150.0</td>\n",
       "      <td>95.0</td>\n",
       "      <td>28.58</td>\n",
       "      <td>65.0</td>\n",
       "      <td>103.0</td>\n",
       "      <td>1</td>\n",
       "    </tr>\n",
       "    <tr>\n",
       "      <th>4</th>\n",
       "      <td>0</td>\n",
       "      <td>46</td>\n",
       "      <td>3.0</td>\n",
       "      <td>1</td>\n",
       "      <td>23.0</td>\n",
       "      <td>0.0</td>\n",
       "      <td>0</td>\n",
       "      <td>0</td>\n",
       "      <td>0</td>\n",
       "      <td>285.0</td>\n",
       "      <td>130.0</td>\n",
       "      <td>84.0</td>\n",
       "      <td>23.10</td>\n",
       "      <td>85.0</td>\n",
       "      <td>85.0</td>\n",
       "      <td>0</td>\n",
       "    </tr>\n",
       "  </tbody>\n",
       "</table>\n",
       "</div>"
      ],
      "text/plain": [
       "   male  age  education  currentSmoker  cigsPerDay  BPMeds  prevalentStroke  \\\n",
       "0     1   39        4.0              0         0.0     0.0                0   \n",
       "1     0   46        2.0              0         0.0     0.0                0   \n",
       "2     1   48        1.0              1        20.0     0.0                0   \n",
       "3     0   61        3.0              1        30.0     0.0                0   \n",
       "4     0   46        3.0              1        23.0     0.0                0   \n",
       "\n",
       "   prevalentHyp  diabetes  totChol  sysBP  diaBP    BMI  heartRate  glucose  \\\n",
       "0             0         0    195.0  106.0   70.0  26.97       80.0     77.0   \n",
       "1             0         0    250.0  121.0   81.0  28.73       95.0     76.0   \n",
       "2             0         0    245.0  127.5   80.0  25.34       75.0     70.0   \n",
       "3             1         0    225.0  150.0   95.0  28.58       65.0    103.0   \n",
       "4             0         0    285.0  130.0   84.0  23.10       85.0     85.0   \n",
       "\n",
       "   TenYearCHD  \n",
       "0           0  \n",
       "1           0  \n",
       "2           0  \n",
       "3           1  \n",
       "4           0  "
      ]
     },
     "execution_count": 4,
     "metadata": {},
     "output_type": "execute_result"
    }
   ],
   "source": [
    "hd.head()"
   ]
  },
  {
   "cell_type": "code",
   "execution_count": 5,
   "metadata": {},
   "outputs": [],
   "source": [
    "# Split the data into train and test:\n",
    "from sklearn.model_selection import train_test_split\n",
    "hd_train, hd_test = train_test_split(hd, test_size=0.2, random_state=2, stratify=hd['TenYearCHD'])"
   ]
  },
  {
   "cell_type": "code",
   "execution_count": 6,
   "metadata": {},
   "outputs": [
    {
     "data": {
      "text/plain": [
       "(3390, 16)"
      ]
     },
     "execution_count": 6,
     "metadata": {},
     "output_type": "execute_result"
    }
   ],
   "source": [
    "hd_train.shape"
   ]
  },
  {
   "cell_type": "code",
   "execution_count": 7,
   "metadata": {},
   "outputs": [
    {
     "data": {
      "text/plain": [
       "(848, 16)"
      ]
     },
     "execution_count": 7,
     "metadata": {},
     "output_type": "execute_result"
    }
   ],
   "source": [
    "hd_test.shape"
   ]
  },
  {
   "cell_type": "code",
   "execution_count": 8,
   "metadata": {},
   "outputs": [],
   "source": [
    "# Filling NAs in train and test:\n",
    "\n",
    "hd_train['education'].fillna(hd_train['education'].median(), inplace=True)\n",
    "hd_train['cigsPerDay'].fillna(hd_train['cigsPerDay'].median(), inplace=True)\n",
    "hd_train['totChol'].fillna(hd_train['totChol'].median(), inplace=True)\n",
    "hd_train['BMI'].fillna(hd_train['BMI'].median(), inplace=True)\n",
    "hd_train['heartRate'].fillna(hd_train['heartRate'].median(), inplace=True)\n",
    "hd_train['glucose'].fillna(hd_train['glucose'].median(), inplace=True)\n",
    "\n",
    "hd_test['education'].fillna(hd_test['education'].median(), inplace=True)\n",
    "hd_test['cigsPerDay'].fillna(hd_test['cigsPerDay'].median(), inplace=True)\n",
    "hd_test['totChol'].fillna(hd_test['totChol'].median(), inplace=True)\n",
    "hd_test['BMI'].fillna(hd_test['BMI'].median(), inplace=True)\n",
    "hd_test['heartRate'].fillna(hd_test['heartRate'].median(), inplace=True)\n",
    "hd_test['glucose'].fillna(hd_test['glucose'].median(), inplace=True)\n",
    "\n",
    "hd_train.dropna(inplace=True)\n",
    "hd_test.dropna(inplace=True)"
   ]
  },
  {
   "cell_type": "code",
   "execution_count": 9,
   "metadata": {},
   "outputs": [],
   "source": [
    "# Standardize the data:\n",
    "\n",
    "from sklearn.preprocessing import StandardScaler\n",
    "scaler = StandardScaler()\n",
    "\n",
    "num_features = ['age', 'education', 'cigsPerDay', 'totChol', 'sysBP', 'diaBP', 'BMI', 'heartRate', 'glucose']\n",
    "\n",
    "scaler.fit(hd_train[num_features])\n",
    "scaled_train = scaler.transform(hd_train[num_features])\n",
    "\n",
    "for i,col in enumerate(num_features):\n",
    "    hd_train[col] = scaled_train[:,i]\n",
    "    \n",
    "scaled_test = scaler.fit_transform(hd_test[num_features])\n",
    "for i,col in enumerate(num_features):\n",
    "    hd_test[col] = scaled_test[:,i]"
   ]
  },
  {
   "cell_type": "code",
   "execution_count": 10,
   "metadata": {},
   "outputs": [
    {
     "data": {
      "text/html": [
       "<div>\n",
       "<style scoped>\n",
       "    .dataframe tbody tr th:only-of-type {\n",
       "        vertical-align: middle;\n",
       "    }\n",
       "\n",
       "    .dataframe tbody tr th {\n",
       "        vertical-align: top;\n",
       "    }\n",
       "\n",
       "    .dataframe thead th {\n",
       "        text-align: right;\n",
       "    }\n",
       "</style>\n",
       "<table border=\"1\" class=\"dataframe\">\n",
       "  <thead>\n",
       "    <tr style=\"text-align: right;\">\n",
       "      <th></th>\n",
       "      <th>male</th>\n",
       "      <th>age</th>\n",
       "      <th>education</th>\n",
       "      <th>currentSmoker</th>\n",
       "      <th>cigsPerDay</th>\n",
       "      <th>BPMeds</th>\n",
       "      <th>prevalentStroke</th>\n",
       "      <th>prevalentHyp</th>\n",
       "      <th>diabetes</th>\n",
       "      <th>totChol</th>\n",
       "      <th>sysBP</th>\n",
       "      <th>diaBP</th>\n",
       "      <th>BMI</th>\n",
       "      <th>heartRate</th>\n",
       "      <th>glucose</th>\n",
       "      <th>TenYearCHD</th>\n",
       "    </tr>\n",
       "  </thead>\n",
       "  <tbody>\n",
       "    <tr>\n",
       "      <th>2259</th>\n",
       "      <td>1</td>\n",
       "      <td>-1.106479</td>\n",
       "      <td>1.008149</td>\n",
       "      <td>1</td>\n",
       "      <td>2.624769</td>\n",
       "      <td>0.0</td>\n",
       "      <td>0</td>\n",
       "      <td>0</td>\n",
       "      <td>0</td>\n",
       "      <td>-0.657985</td>\n",
       "      <td>-0.563928</td>\n",
       "      <td>-0.243709</td>\n",
       "      <td>0.053617</td>\n",
       "      <td>-0.087331</td>\n",
       "      <td>-0.669347</td>\n",
       "      <td>0</td>\n",
       "    </tr>\n",
       "    <tr>\n",
       "      <th>3035</th>\n",
       "      <td>1</td>\n",
       "      <td>0.402902</td>\n",
       "      <td>2.001454</td>\n",
       "      <td>0</td>\n",
       "      <td>-0.760594</td>\n",
       "      <td>0.0</td>\n",
       "      <td>0</td>\n",
       "      <td>0</td>\n",
       "      <td>0</td>\n",
       "      <td>-0.276325</td>\n",
       "      <td>-1.087157</td>\n",
       "      <td>-0.835471</td>\n",
       "      <td>0.195200</td>\n",
       "      <td>-1.840087</td>\n",
       "      <td>-0.367038</td>\n",
       "      <td>0</td>\n",
       "    </tr>\n",
       "    <tr>\n",
       "      <th>1241</th>\n",
       "      <td>1</td>\n",
       "      <td>0.170689</td>\n",
       "      <td>-0.978462</td>\n",
       "      <td>1</td>\n",
       "      <td>0.932088</td>\n",
       "      <td>0.0</td>\n",
       "      <td>0</td>\n",
       "      <td>1</td>\n",
       "      <td>0</td>\n",
       "      <td>0.195138</td>\n",
       "      <td>-0.199942</td>\n",
       "      <td>-1.173621</td>\n",
       "      <td>0.448560</td>\n",
       "      <td>0.329992</td>\n",
       "      <td>-0.410225</td>\n",
       "      <td>1</td>\n",
       "    </tr>\n",
       "    <tr>\n",
       "      <th>2584</th>\n",
       "      <td>0</td>\n",
       "      <td>-0.758160</td>\n",
       "      <td>-0.978462</td>\n",
       "      <td>1</td>\n",
       "      <td>-0.675960</td>\n",
       "      <td>0.0</td>\n",
       "      <td>0</td>\n",
       "      <td>0</td>\n",
       "      <td>0</td>\n",
       "      <td>0.419644</td>\n",
       "      <td>-0.154444</td>\n",
       "      <td>0.263517</td>\n",
       "      <td>0.031261</td>\n",
       "      <td>1.665425</td>\n",
       "      <td>-0.410225</td>\n",
       "      <td>0</td>\n",
       "    </tr>\n",
       "    <tr>\n",
       "      <th>3528</th>\n",
       "      <td>1</td>\n",
       "      <td>1.331752</td>\n",
       "      <td>2.001454</td>\n",
       "      <td>1</td>\n",
       "      <td>0.508917</td>\n",
       "      <td>0.0</td>\n",
       "      <td>0</td>\n",
       "      <td>0</td>\n",
       "      <td>0</td>\n",
       "      <td>-0.455930</td>\n",
       "      <td>-0.063447</td>\n",
       "      <td>0.009904</td>\n",
       "      <td>0.172845</td>\n",
       "      <td>-1.172371</td>\n",
       "      <td>-0.021542</td>\n",
       "      <td>1</td>\n",
       "    </tr>\n",
       "  </tbody>\n",
       "</table>\n",
       "</div>"
      ],
      "text/plain": [
       "      male       age  education  currentSmoker  cigsPerDay  BPMeds  \\\n",
       "2259     1 -1.106479   1.008149              1    2.624769     0.0   \n",
       "3035     1  0.402902   2.001454              0   -0.760594     0.0   \n",
       "1241     1  0.170689  -0.978462              1    0.932088     0.0   \n",
       "2584     0 -0.758160  -0.978462              1   -0.675960     0.0   \n",
       "3528     1  1.331752   2.001454              1    0.508917     0.0   \n",
       "\n",
       "      prevalentStroke  prevalentHyp  diabetes   totChol     sysBP     diaBP  \\\n",
       "2259                0             0         0 -0.657985 -0.563928 -0.243709   \n",
       "3035                0             0         0 -0.276325 -1.087157 -0.835471   \n",
       "1241                0             1         0  0.195138 -0.199942 -1.173621   \n",
       "2584                0             0         0  0.419644 -0.154444  0.263517   \n",
       "3528                0             0         0 -0.455930 -0.063447  0.009904   \n",
       "\n",
       "           BMI  heartRate   glucose  TenYearCHD  \n",
       "2259  0.053617  -0.087331 -0.669347           0  \n",
       "3035  0.195200  -1.840087 -0.367038           0  \n",
       "1241  0.448560   0.329992 -0.410225           1  \n",
       "2584  0.031261   1.665425 -0.410225           0  \n",
       "3528  0.172845  -1.172371 -0.021542           1  "
      ]
     },
     "execution_count": 10,
     "metadata": {},
     "output_type": "execute_result"
    }
   ],
   "source": [
    "hd_train.head()"
   ]
  },
  {
   "cell_type": "code",
   "execution_count": 11,
   "metadata": {},
   "outputs": [
    {
     "data": {
      "text/html": [
       "<div>\n",
       "<style scoped>\n",
       "    .dataframe tbody tr th:only-of-type {\n",
       "        vertical-align: middle;\n",
       "    }\n",
       "\n",
       "    .dataframe tbody tr th {\n",
       "        vertical-align: top;\n",
       "    }\n",
       "\n",
       "    .dataframe thead th {\n",
       "        text-align: right;\n",
       "    }\n",
       "</style>\n",
       "<table border=\"1\" class=\"dataframe\">\n",
       "  <thead>\n",
       "    <tr style=\"text-align: right;\">\n",
       "      <th></th>\n",
       "      <th>male</th>\n",
       "      <th>age</th>\n",
       "      <th>education</th>\n",
       "      <th>currentSmoker</th>\n",
       "      <th>cigsPerDay</th>\n",
       "      <th>BPMeds</th>\n",
       "      <th>prevalentStroke</th>\n",
       "      <th>prevalentHyp</th>\n",
       "      <th>diabetes</th>\n",
       "      <th>totChol</th>\n",
       "      <th>sysBP</th>\n",
       "      <th>diaBP</th>\n",
       "      <th>BMI</th>\n",
       "      <th>heartRate</th>\n",
       "      <th>glucose</th>\n",
       "      <th>TenYearCHD</th>\n",
       "    </tr>\n",
       "  </thead>\n",
       "  <tbody>\n",
       "    <tr>\n",
       "      <th>2007</th>\n",
       "      <td>1</td>\n",
       "      <td>1.736748</td>\n",
       "      <td>-0.960855</td>\n",
       "      <td>1</td>\n",
       "      <td>0.506582</td>\n",
       "      <td>1.0</td>\n",
       "      <td>0</td>\n",
       "      <td>1</td>\n",
       "      <td>0</td>\n",
       "      <td>0.748666</td>\n",
       "      <td>2.687087</td>\n",
       "      <td>-0.157620</td>\n",
       "      <td>-0.148502</td>\n",
       "      <td>1.608052</td>\n",
       "      <td>-0.184775</td>\n",
       "      <td>1</td>\n",
       "    </tr>\n",
       "    <tr>\n",
       "      <th>42</th>\n",
       "      <td>0</td>\n",
       "      <td>0.293686</td>\n",
       "      <td>-0.960855</td>\n",
       "      <td>0</td>\n",
       "      <td>-0.720860</td>\n",
       "      <td>1.0</td>\n",
       "      <td>0</td>\n",
       "      <td>1</td>\n",
       "      <td>0</td>\n",
       "      <td>-0.045815</td>\n",
       "      <td>0.732985</td>\n",
       "      <td>0.753831</td>\n",
       "      <td>-0.205324</td>\n",
       "      <td>-0.422219</td>\n",
       "      <td>-0.139352</td>\n",
       "      <td>1</td>\n",
       "    </tr>\n",
       "    <tr>\n",
       "      <th>1298</th>\n",
       "      <td>1</td>\n",
       "      <td>-1.149375</td>\n",
       "      <td>-0.960855</td>\n",
       "      <td>0</td>\n",
       "      <td>-0.720860</td>\n",
       "      <td>0.0</td>\n",
       "      <td>0</td>\n",
       "      <td>1</td>\n",
       "      <td>0</td>\n",
       "      <td>-1.377739</td>\n",
       "      <td>1.869091</td>\n",
       "      <td>-1.980524</td>\n",
       "      <td>0.481282</td>\n",
       "      <td>-0.422219</td>\n",
       "      <td>-0.321041</td>\n",
       "      <td>1</td>\n",
       "    </tr>\n",
       "    <tr>\n",
       "      <th>3372</th>\n",
       "      <td>1</td>\n",
       "      <td>0.654452</td>\n",
       "      <td>1.032117</td>\n",
       "      <td>1</td>\n",
       "      <td>0.506582</td>\n",
       "      <td>0.0</td>\n",
       "      <td>0</td>\n",
       "      <td>0</td>\n",
       "      <td>0</td>\n",
       "      <td>-0.443056</td>\n",
       "      <td>-0.471288</td>\n",
       "      <td>-0.116191</td>\n",
       "      <td>0.590192</td>\n",
       "      <td>-0.341008</td>\n",
       "      <td>0.723669</td>\n",
       "      <td>0</td>\n",
       "    </tr>\n",
       "    <tr>\n",
       "      <th>2492</th>\n",
       "      <td>0</td>\n",
       "      <td>1.135472</td>\n",
       "      <td>-0.960855</td>\n",
       "      <td>1</td>\n",
       "      <td>0.097435</td>\n",
       "      <td>1.0</td>\n",
       "      <td>0</td>\n",
       "      <td>1</td>\n",
       "      <td>0</td>\n",
       "      <td>1.823552</td>\n",
       "      <td>1.959979</td>\n",
       "      <td>-0.074761</td>\n",
       "      <td>3.282160</td>\n",
       "      <td>3.638323</td>\n",
       "      <td>0.133181</td>\n",
       "      <td>1</td>\n",
       "    </tr>\n",
       "  </tbody>\n",
       "</table>\n",
       "</div>"
      ],
      "text/plain": [
       "      male       age  education  currentSmoker  cigsPerDay  BPMeds  \\\n",
       "2007     1  1.736748  -0.960855              1    0.506582     1.0   \n",
       "42       0  0.293686  -0.960855              0   -0.720860     1.0   \n",
       "1298     1 -1.149375  -0.960855              0   -0.720860     0.0   \n",
       "3372     1  0.654452   1.032117              1    0.506582     0.0   \n",
       "2492     0  1.135472  -0.960855              1    0.097435     1.0   \n",
       "\n",
       "      prevalentStroke  prevalentHyp  diabetes   totChol     sysBP     diaBP  \\\n",
       "2007                0             1         0  0.748666  2.687087 -0.157620   \n",
       "42                  0             1         0 -0.045815  0.732985  0.753831   \n",
       "1298                0             1         0 -1.377739  1.869091 -1.980524   \n",
       "3372                0             0         0 -0.443056 -0.471288 -0.116191   \n",
       "2492                0             1         0  1.823552  1.959979 -0.074761   \n",
       "\n",
       "           BMI  heartRate   glucose  TenYearCHD  \n",
       "2007 -0.148502   1.608052 -0.184775           1  \n",
       "42   -0.205324  -0.422219 -0.139352           1  \n",
       "1298  0.481282  -0.422219 -0.321041           1  \n",
       "3372  0.590192  -0.341008  0.723669           0  \n",
       "2492  3.282160   3.638323  0.133181           1  "
      ]
     },
     "execution_count": 11,
     "metadata": {},
     "output_type": "execute_result"
    }
   ],
   "source": [
    "hd_test.head()"
   ]
  },
  {
   "cell_type": "code",
   "execution_count": 12,
   "metadata": {},
   "outputs": [],
   "source": [
    "hd_train.reset_index(drop=True, inplace=True)\n",
    "hd_test.reset_index(drop=True, inplace=True)\n",
    "\n",
    "x_train = hd_train.drop('TenYearCHD', 1)\n",
    "y_train = hd_train['TenYearCHD']\n",
    "\n",
    "x_test = hd_test.drop('TenYearCHD', 1)\n",
    "y_test = hd_test['TenYearCHD']"
   ]
  },
  {
   "cell_type": "code",
   "execution_count": 15,
   "metadata": {},
   "outputs": [
    {
     "data": {
      "text/plain": [
       "(3346, 15)"
      ]
     },
     "execution_count": 15,
     "metadata": {},
     "output_type": "execute_result"
    }
   ],
   "source": [
    "x_train.shape"
   ]
  },
  {
   "cell_type": "code",
   "execution_count": 16,
   "metadata": {},
   "outputs": [
    {
     "data": {
      "text/plain": [
       "(3346,)"
      ]
     },
     "execution_count": 16,
     "metadata": {},
     "output_type": "execute_result"
    }
   ],
   "source": [
    "y_train.shape"
   ]
  },
  {
   "cell_type": "code",
   "execution_count": 17,
   "metadata": {},
   "outputs": [
    {
     "data": {
      "text/plain": [
       "(839, 15)"
      ]
     },
     "execution_count": 17,
     "metadata": {},
     "output_type": "execute_result"
    }
   ],
   "source": [
    "x_test.shape"
   ]
  },
  {
   "cell_type": "code",
   "execution_count": 18,
   "metadata": {},
   "outputs": [
    {
     "data": {
      "text/plain": [
       "(839,)"
      ]
     },
     "execution_count": 18,
     "metadata": {},
     "output_type": "execute_result"
    }
   ],
   "source": [
    "y_test.shape"
   ]
  },
  {
   "cell_type": "code",
   "execution_count": 13,
   "metadata": {},
   "outputs": [],
   "source": [
    "from sklearn.linear_model import LogisticRegression\n",
    "from sklearn.tree import DecisionTreeClassifier\n",
    "from sklearn.ensemble import RandomForestClassifier\n",
    "from xgboost.sklearn import XGBClassifier\n",
    "from sklearn.svm import SVC\n",
    "from sklearn.neighbors import KNeighborsClassifier\n",
    "\n",
    "from sklearn.model_selection import cross_val_score\n",
    "from sklearn.metrics import classification_report\n",
    "\n",
    "from imblearn.over_sampling import SMOTE"
   ]
  },
  {
   "cell_type": "markdown",
   "metadata": {},
   "source": [
    "### Without balancing the imbalaced class"
   ]
  },
  {
   "cell_type": "code",
   "execution_count": 19,
   "metadata": {},
   "outputs": [
    {
     "name": "stdout",
     "output_type": "stream",
     "text": [
      "              precision    recall  f1-score   support\n",
      "\n",
      "           0       0.86      1.00      0.92       712\n",
      "           1       0.82      0.07      0.13       127\n",
      "\n",
      "    accuracy                           0.86       839\n",
      "   macro avg       0.84      0.53      0.53       839\n",
      "weighted avg       0.85      0.86      0.80       839\n",
      "\n"
     ]
    }
   ],
   "source": [
    "lr_model = LogisticRegression()\n",
    "lr_model.fit(x_train, y_train)\n",
    "print(classification_report(y_test, lr_model.predict(x_test)))"
   ]
  },
  {
   "cell_type": "code",
   "execution_count": 21,
   "metadata": {},
   "outputs": [
    {
     "name": "stdout",
     "output_type": "stream",
     "text": [
      "              precision    recall  f1-score   support\n",
      "\n",
      "           0       0.87      0.84      0.86       712\n",
      "           1       0.24      0.28      0.26       127\n",
      "\n",
      "    accuracy                           0.76       839\n",
      "   macro avg       0.55      0.56      0.56       839\n",
      "weighted avg       0.77      0.76      0.76       839\n",
      "\n"
     ]
    }
   ],
   "source": [
    "dtree_model = DecisionTreeClassifier()\n",
    "dtree_model.fit(x_train, y_train)\n",
    "print(classification_report(y_test, dtree_model.predict(x_test)))"
   ]
  },
  {
   "cell_type": "code",
   "execution_count": 22,
   "metadata": {},
   "outputs": [
    {
     "name": "stdout",
     "output_type": "stream",
     "text": [
      "              precision    recall  f1-score   support\n",
      "\n",
      "           0       0.85      0.99      0.92       712\n",
      "           1       0.47      0.06      0.10       127\n",
      "\n",
      "    accuracy                           0.85       839\n",
      "   macro avg       0.66      0.52      0.51       839\n",
      "weighted avg       0.80      0.85      0.79       839\n",
      "\n"
     ]
    }
   ],
   "source": [
    "rf_model = RandomForestClassifier()\n",
    "rf_model.fit(x_train, y_train)\n",
    "print(classification_report(y_test, rf_model.predict(x_test)))"
   ]
  },
  {
   "cell_type": "code",
   "execution_count": 23,
   "metadata": {},
   "outputs": [
    {
     "name": "stdout",
     "output_type": "stream",
     "text": [
      "              precision    recall  f1-score   support\n",
      "\n",
      "           0       0.86      0.96      0.91       712\n",
      "           1       0.38      0.14      0.21       127\n",
      "\n",
      "    accuracy                           0.83       839\n",
      "   macro avg       0.62      0.55      0.56       839\n",
      "weighted avg       0.79      0.83      0.80       839\n",
      "\n"
     ]
    }
   ],
   "source": [
    "xgb_model = XGBClassifier()\n",
    "xgb_model.fit(x_train, y_train)\n",
    "print(classification_report(y_test, xgb_model.predict(x_test)))"
   ]
  },
  {
   "cell_type": "code",
   "execution_count": 24,
   "metadata": {},
   "outputs": [
    {
     "name": "stdout",
     "output_type": "stream",
     "text": [
      "              precision    recall  f1-score   support\n",
      "\n",
      "           0       0.86      0.96      0.91       712\n",
      "           1       0.32      0.09      0.15       127\n",
      "\n",
      "    accuracy                           0.83       839\n",
      "   macro avg       0.59      0.53      0.53       839\n",
      "weighted avg       0.77      0.83      0.79       839\n",
      "\n"
     ]
    }
   ],
   "source": [
    "knn_model = KNeighborsClassifier()\n",
    "knn_model.fit(x_train, y_train)\n",
    "print(classification_report(y_test, knn_model.predict(x_test)))"
   ]
  },
  {
   "cell_type": "code",
   "execution_count": 25,
   "metadata": {},
   "outputs": [
    {
     "name": "stdout",
     "output_type": "stream",
     "text": [
      "              precision    recall  f1-score   support\n",
      "\n",
      "           0       0.85      1.00      0.92       712\n",
      "           1       1.00      0.02      0.03       127\n",
      "\n",
      "    accuracy                           0.85       839\n",
      "   macro avg       0.93      0.51      0.48       839\n",
      "weighted avg       0.87      0.85      0.78       839\n",
      "\n"
     ]
    }
   ],
   "source": [
    "svm_model = SVC()\n",
    "svm_model.fit(x_train, y_train)\n",
    "print(classification_report(y_test, svm_model.predict(x_test)))"
   ]
  },
  {
   "cell_type": "code",
   "execution_count": 26,
   "metadata": {},
   "outputs": [],
   "source": [
    "# Recall values without balancing:\n",
    "# lr_model : 0.07\n",
    "# dtree_model : 0.28\n",
    "# rf_model : 0.06\n",
    "# xgb_model : 0.14\n",
    "# knn_model : 0.09\n",
    "# svm_model : 0.02"
   ]
  },
  {
   "cell_type": "markdown",
   "metadata": {},
   "source": [
    "### Balancing the imbalanced class"
   ]
  },
  {
   "cell_type": "code",
   "execution_count": 27,
   "metadata": {},
   "outputs": [
    {
     "name": "stdout",
     "output_type": "stream",
     "text": [
      "Before OverSampling, counts of label '1': 506\n",
      "Before OverSampling, counts of label '0': 2840 \n",
      "\n"
     ]
    }
   ],
   "source": [
    "print(\"Before OverSampling, counts of label '1': {}\".format(sum(y_train == 1)))\n",
    "print(\"Before OverSampling, counts of label '0': {} \\n\".format(sum(y_train == 0)))"
   ]
  },
  {
   "cell_type": "code",
   "execution_count": 29,
   "metadata": {},
   "outputs": [
    {
     "name": "stdout",
     "output_type": "stream",
     "text": [
      "After OverSampling, the shape of train_X: (5680, 15)\n",
      "After OverSampling, the shape of train_y: (5680,) \n",
      "\n",
      "After OverSampling, counts of label '1': 2840\n",
      "After OverSampling, counts of label '0': 2840\n"
     ]
    }
   ],
   "source": [
    "# Balancing using SMOTE:\n",
    "sm = SMOTE(random_state=2)\n",
    "x_train_smote, y_train_smote = sm.fit_resample(x_train, y_train.ravel())\n",
    "\n",
    "print('After OverSampling, the shape of train_X: {}'.format(x_train_smote.shape))\n",
    "print('After OverSampling, the shape of train_y: {} \\n'.format(y_train_smote.shape))\n",
    "  \n",
    "print(\"After OverSampling, counts of label '1': {}\".format(sum(y_train_smote == 1)))\n",
    "print(\"After OverSampling, counts of label '0': {}\".format(sum(y_train_smote == 0)))"
   ]
  },
  {
   "cell_type": "code",
   "execution_count": 30,
   "metadata": {},
   "outputs": [
    {
     "name": "stdout",
     "output_type": "stream",
     "text": [
      "              precision    recall  f1-score   support\n",
      "\n",
      "           0       0.92      0.65      0.76       712\n",
      "           1       0.26      0.68      0.37       127\n",
      "\n",
      "    accuracy                           0.66       839\n",
      "   macro avg       0.59      0.67      0.57       839\n",
      "weighted avg       0.82      0.66      0.70       839\n",
      "\n"
     ]
    }
   ],
   "source": [
    "lr_model = LogisticRegression()\n",
    "lr_model.fit(x_train_smote, y_train_smote)\n",
    "print(classification_report(y_test, lr_model.predict(x_test)))"
   ]
  },
  {
   "cell_type": "code",
   "execution_count": 31,
   "metadata": {},
   "outputs": [
    {
     "name": "stdout",
     "output_type": "stream",
     "text": [
      "              precision    recall  f1-score   support\n",
      "\n",
      "           0       0.88      0.38      0.53       712\n",
      "           1       0.17      0.70      0.27       127\n",
      "\n",
      "    accuracy                           0.43       839\n",
      "   macro avg       0.52      0.54      0.40       839\n",
      "weighted avg       0.77      0.43      0.49       839\n",
      "\n"
     ]
    }
   ],
   "source": [
    "dtree_model = DecisionTreeClassifier()\n",
    "dtree_model.fit(x_train_smote, y_train_smote)\n",
    "print(classification_report(y_test, dtree_model.predict(x_test)))"
   ]
  },
  {
   "cell_type": "code",
   "execution_count": 32,
   "metadata": {},
   "outputs": [
    {
     "name": "stdout",
     "output_type": "stream",
     "text": [
      "              precision    recall  f1-score   support\n",
      "\n",
      "           0       0.87      0.12      0.20       712\n",
      "           1       0.15      0.91      0.26       127\n",
      "\n",
      "    accuracy                           0.23       839\n",
      "   macro avg       0.51      0.51      0.23       839\n",
      "weighted avg       0.76      0.23      0.21       839\n",
      "\n"
     ]
    }
   ],
   "source": [
    "xgb_model = XGBClassifier()\n",
    "xgb_model.fit(x_train_smote, y_train_smote)\n",
    "print(classification_report(y_test, xgb_model.predict(x_test)))"
   ]
  },
  {
   "cell_type": "code",
   "execution_count": 33,
   "metadata": {},
   "outputs": [
    {
     "name": "stdout",
     "output_type": "stream",
     "text": [
      "              precision    recall  f1-score   support\n",
      "\n",
      "           0       0.88      0.64      0.74       712\n",
      "           1       0.20      0.52      0.29       127\n",
      "\n",
      "    accuracy                           0.62       839\n",
      "   macro avg       0.54      0.58      0.52       839\n",
      "weighted avg       0.78      0.62      0.67       839\n",
      "\n"
     ]
    }
   ],
   "source": [
    "knn_model = KNeighborsClassifier()\n",
    "knn_model.fit(x_train_smote, y_train_smote)\n",
    "print(classification_report(y_test, knn_model.predict(x_test)))"
   ]
  },
  {
   "cell_type": "code",
   "execution_count": 34,
   "metadata": {},
   "outputs": [
    {
     "name": "stdout",
     "output_type": "stream",
     "text": [
      "              precision    recall  f1-score   support\n",
      "\n",
      "           0       0.88      0.69      0.77       712\n",
      "           1       0.21      0.46      0.29       127\n",
      "\n",
      "    accuracy                           0.65       839\n",
      "   macro avg       0.54      0.57      0.53       839\n",
      "weighted avg       0.78      0.65      0.70       839\n",
      "\n"
     ]
    }
   ],
   "source": [
    "svm_model = SVC()\n",
    "svm_model.fit(x_train_smote, y_train_smote)\n",
    "print(classification_report(y_test, svm_model.predict(x_test)))"
   ]
  },
  {
   "cell_type": "code",
   "execution_count": 35,
   "metadata": {},
   "outputs": [
    {
     "name": "stdout",
     "output_type": "stream",
     "text": [
      "              precision    recall  f1-score   support\n",
      "\n",
      "           0       0.89      0.57      0.70       712\n",
      "           1       0.20      0.62      0.31       127\n",
      "\n",
      "    accuracy                           0.58       839\n",
      "   macro avg       0.55      0.60      0.50       839\n",
      "weighted avg       0.79      0.58      0.64       839\n",
      "\n"
     ]
    }
   ],
   "source": [
    "rf_model = RandomForestClassifier()\n",
    "rf_model.fit(x_train_smote, y_train_smote)\n",
    "print(classification_report(y_test, rf_model.predict(x_test)))"
   ]
  },
  {
   "cell_type": "code",
   "execution_count": 36,
   "metadata": {},
   "outputs": [],
   "source": [
    "# Recall values with balancing:\n",
    "# lr_model : 0.68\n",
    "# dtree_model : 0.70\n",
    "# rf_model : 0.62\n",
    "# xgb_model : 0.91\n",
    "# knn_model : 0.52\n",
    "# svm_model : 0.46\n",
    "\n",
    "# the accuracy of the models have also come down.\n",
    "\n",
    "# Use sampling to balance the class"
   ]
  },
  {
   "cell_type": "code",
   "execution_count": null,
   "metadata": {},
   "outputs": [],
   "source": []
  }
 ],
 "metadata": {
  "kernelspec": {
   "display_name": "Python 3",
   "language": "python",
   "name": "python3"
  },
  "language_info": {
   "codemirror_mode": {
    "name": "ipython",
    "version": 3
   },
   "file_extension": ".py",
   "mimetype": "text/x-python",
   "name": "python",
   "nbconvert_exporter": "python",
   "pygments_lexer": "ipython3",
   "version": "3.6.4"
  }
 },
 "nbformat": 4,
 "nbformat_minor": 2
}
